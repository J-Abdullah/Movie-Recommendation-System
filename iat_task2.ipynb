{
 "cells": [
  {
   "cell_type": "code",
   "execution_count": 54,
   "metadata": {},
   "outputs": [],
   "source": [
    "#importing libraries\n",
    "import pandas as pd\n",
    "import numpy as np\n",
    "from surprise import Dataset,Reader,SVD,accuracy\n",
    "from surprise.model_selection import train_test_split\n"
   ]
  },
  {
   "cell_type": "code",
   "execution_count": 55,
   "metadata": {},
   "outputs": [
    {
     "name": "stdout",
     "output_type": "stream",
     "text": [
      "movieId    0\n",
      "title      0\n",
      "genres     0\n",
      "dtype: int64\n",
      "userId       0\n",
      "movieId      0\n",
      "rating       0\n",
      "timestamp    0\n",
      "dtype: int64\n"
     ]
    }
   ],
   "source": [
    "#loading Datasets and checking for na values\n",
    "movies=pd.read_csv('movies.csv')\n",
    "rating=pd.read_csv('ratings.csv')\n",
    "print(movies.isnull().sum())\n",
    "print(rating.isnull().sum())"
   ]
  },
  {
   "cell_type": "code",
   "execution_count": 56,
   "metadata": {},
   "outputs": [
    {
     "name": "stdout",
     "output_type": "stream",
     "text": [
      "      movieId                     title         genres\n",
      "6270    26982      Men with Guns (1997)          Drama\n",
      "7963    64997  War of the Worlds (2005)  Action|Sci-Fi \n",
      " Empty DataFrame\n",
      "Columns: [userId, movieId, rating, timestamp]\n",
      "Index: []\n",
      "(10329, 3) \n",
      " (100836, 4)\n"
     ]
    }
   ],
   "source": [
    "#checking for duplicated values \n",
    "m_duplicates=movies[movies.duplicated(['title'])]\n",
    "r_duplicates=rating[rating.duplicated(['userId','movieId'])]\n",
    "print(m_duplicates,'\\n',r_duplicates)\n",
    "print(movies.shape,'\\n',rating.shape)"
   ]
  },
  {
   "cell_type": "code",
   "execution_count": 57,
   "metadata": {},
   "outputs": [
    {
     "data": {
      "text/plain": [
       "(10327, 3)"
      ]
     },
     "execution_count": 57,
     "metadata": {},
     "output_type": "execute_result"
    }
   ],
   "source": [
    "#removing duplicated values\n",
    "movies.drop_duplicates(subset='title',inplace=True)\n",
    "movies.shape"
   ]
  },
  {
   "cell_type": "code",
   "execution_count": 58,
   "metadata": {},
   "outputs": [
    {
     "name": "stdout",
     "output_type": "stream",
     "text": [
      "0.5 \n",
      " 5.0\n"
     ]
    }
   ],
   "source": [
    "print(rating['rating'].min(),'\\n',rating['rating'].max())"
   ]
  },
  {
   "cell_type": "code",
   "execution_count": 59,
   "metadata": {},
   "outputs": [
    {
     "data": {
      "text/plain": [
       "<surprise.prediction_algorithms.matrix_factorization.SVD at 0x2829a118410>"
      ]
     },
     "execution_count": 59,
     "metadata": {},
     "output_type": "execute_result"
    }
   ],
   "source": [
    "#convert data in matrix form and training model\n",
    "reader=Reader(rating_scale=(0.5,5))\n",
    "data=Dataset.load_from_df(rating[['userId','movieId','rating']],reader)\n",
    "train,test=train_test_split(data,test_size=0.2)\n",
    "cFilter=SVD()\n",
    "cFilter.fit(train)"
   ]
  },
  {
   "cell_type": "code",
   "execution_count": 60,
   "metadata": {},
   "outputs": [
    {
     "name": "stdout",
     "output_type": "stream",
     "text": [
      "RMSE: 0.8768\n",
      "MAE:  0.6710\n"
     ]
    },
    {
     "data": {
      "text/plain": [
       "0.6710336740205792"
      ]
     },
     "execution_count": 60,
     "metadata": {},
     "output_type": "execute_result"
    }
   ],
   "source": [
    "#model evaluation\n",
    "predict=cFilter.test(test)\n",
    "accuracy.rmse(predict)\n",
    "accuracy.mae(predict)"
   ]
  },
  {
   "cell_type": "code",
   "execution_count": 61,
   "metadata": {},
   "outputs": [
    {
     "data": {
      "text/plain": [
       "1         0\n",
       "3         0\n",
       "6         0\n",
       "47        0\n",
       "50        0\n",
       "         ..\n",
       "160341    0\n",
       "160527    0\n",
       "160836    0\n",
       "163937    0\n",
       "163981    0\n",
       "Length: 9724, dtype: int64"
      ]
     },
     "execution_count": 61,
     "metadata": {},
     "output_type": "execute_result"
    }
   ],
   "source": [
    "#creating dataFrame with unique users and movies\n",
    "uUsers=rating['userId'].unique()\n",
    "uMovies=rating['movieId'].unique()\n",
    "user_movies=pd.DataFrame(index=uUsers,columns=uMovies)\n",
    "user_movies.fillna(0,inplace=True)\n",
    "user_movies.isnull().sum()\n"
   ]
  },
  {
   "cell_type": "code",
   "execution_count": 69,
   "metadata": {},
   "outputs": [],
   "source": [
    "#filling data frame\n",
    "userId=3\n",
    "userRating={3:4.0,8:5.0,20:4.5,10:2.5}\n",
    "for movieId,rating in userRating.items():\n",
    "    user_movies.loc[userId,movieId]=rating"
   ]
  },
  {
   "cell_type": "code",
   "execution_count": 70,
   "metadata": {},
   "outputs": [],
   "source": [
    "#predicting rating based on user preferences\n",
    "moviePrediction=user_movies.apply(lambda row: cFilter.predict(userId,row.name,r_ui=row.values.mean()).est,axis=1)"
   ]
  },
  {
   "cell_type": "code",
   "execution_count": 71,
   "metadata": {},
   "outputs": [
    {
     "name": "stdout",
     "output_type": "stream",
     "text": [
      "5                            Heat (1995)\n",
      "99                    Taxi Driver (1976)\n",
      "279     Shawshank Redemption, The (1994)\n",
      "405                 Fugitive, The (1993)\n",
      "522    Terminator 2: Judgment Day (1991)\n",
      "Name: title, dtype: object\n"
     ]
    }
   ],
   "source": [
    "#recommendening movies\n",
    "top=5\n",
    "recommendedMovies=moviePrediction.sort_values(ascending=False)[:top].index\n",
    "moviesTitles=movies[movies['movieId'].isin(recommendedMovies)]['title']\n",
    "print(moviesTitles)"
   ]
  }
 ],
 "metadata": {
  "kernelspec": {
   "display_name": "Python 3",
   "language": "python",
   "name": "python3"
  },
  "language_info": {
   "codemirror_mode": {
    "name": "ipython",
    "version": 3
   },
   "file_extension": ".py",
   "mimetype": "text/x-python",
   "name": "python",
   "nbconvert_exporter": "python",
   "pygments_lexer": "ipython3",
   "version": "3.11.1"
  },
  "orig_nbformat": 4
 },
 "nbformat": 4,
 "nbformat_minor": 2
}
